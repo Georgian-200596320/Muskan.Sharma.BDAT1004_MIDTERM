{
 "cells": [
  {
   "cell_type": "markdown",
   "id": "dab0a8dc",
   "metadata": {},
   "source": [
    "# Write a solution to find all dates' Id with higher temperatures compared to its previous dates (yesterday)."
   ]
  },
  {
   "cell_type": "code",
   "execution_count": 1,
   "id": "7e3743c6",
   "metadata": {},
   "outputs": [],
   "source": [
    "import sqlite3\n",
    "\n",
    "# Create a connection to the database\n",
    "conn = sqlite3.connect('weather_data.db')\n",
    "\n",
    "# Create a cursor object\n",
    "cur = conn.cursor()\n",
    "\n",
    "# Create the Weather table\n",
    "cur.execute('''\n",
    "    CREATE TABLE Weather (\n",
    "        id INTEGER PRIMARY KEY,\n",
    "        recordDate DATE,\n",
    "        temperature INTEGER\n",
    "    )\n",
    "''')\n",
    "\n",
    "# Insert the data\n",
    "cur.execute(\"INSERT INTO Weather (id, recordDate, temperature) VALUES (1, '2015-01-01', 10)\")\n",
    "cur.execute(\"INSERT INTO Weather (id, recordDate, temperature) VALUES (2, '2015-01-02', 25)\")\n",
    "cur.execute(\"INSERT INTO Weather (id, recordDate, temperature) VALUES (3, '2015-01-03', 20)\")\n",
    "cur.execute(\"INSERT INTO Weather (id, recordDate, temperature) VALUES (4, '2015-01-04', 30)\")\n",
    "\n",
    "conn.commit()\n",
    "conn.close()"
   ]
  },
  {
   "cell_type": "code",
   "execution_count": 2,
   "id": "179dbe37",
   "metadata": {},
   "outputs": [
    {
     "name": "stdout",
     "output_type": "stream",
     "text": [
      "dates id when temeprature was higher than the previous day: \n",
      "2\n",
      "4\n"
     ]
    }
   ],
   "source": [
    "# Create a connection to the database\n",
    "conn = sqlite3.connect('weather_data.db')\n",
    "\n",
    "# Create a cursor object\n",
    "cur = conn.cursor()\n",
    "\n",
    "# SQL query to find all dates' Id with higher temperatures compared to its previous dates.\n",
    "cur.execute('''\n",
    "    SELECT w1.id\n",
    "    FROM Weather w1\n",
    "    JOIN Weather w2 ON w1.recordDate = DATE(w2.recordDate, '+1 day')\n",
    "    WHERE w1.temperature > w2.temperature\n",
    "''')\n",
    "\n",
    "# Fetch all the results\n",
    "results = cur.fetchall()\n",
    "\n",
    "# Print the results\n",
    "print(\"dates id when temeprature was higher than the previous day: \")\n",
    "for row in results:\n",
    "    print(row[0])\n",
    "\n",
    "# Close the connection\n",
    "conn.close()"
   ]
  }
 ],
 "metadata": {
  "kernelspec": {
   "display_name": "Python 3 (ipykernel)",
   "language": "python",
   "name": "python3"
  },
  "language_info": {
   "codemirror_mode": {
    "name": "ipython",
    "version": 3
   },
   "file_extension": ".py",
   "mimetype": "text/x-python",
   "name": "python",
   "nbconvert_exporter": "python",
   "pygments_lexer": "ipython3",
   "version": "3.9.12"
  }
 },
 "nbformat": 4,
 "nbformat_minor": 5
}
