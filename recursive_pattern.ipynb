{
 "cells": [
  {
   "cell_type": "markdown",
   "id": "b80c73f3",
   "metadata": {},
   "source": [
    "# Develop a recursive function tough() that takes two nonnegative integer arguments and outputs a pattern"
   ]
  },
  {
   "cell_type": "code",
   "execution_count": 16,
   "id": "34b73555",
   "metadata": {},
   "outputs": [
    {
     "name": "stdout",
     "output_type": "stream",
     "text": [
      "*\n",
      "**\n",
      " *\n",
      "\n",
      " another function call with different values :\n",
      "\n",
      "*\n",
      "**\n",
      " *\n",
      "****\n",
      " *\n",
      " **\n",
      "  *\n"
     ]
    }
   ],
   "source": [
    "def tough(indent, num):\n",
    "    if(num > 0):\n",
    "        tough(indent, num//2)               # print previous pattern\n",
    "        print(\" \"*indent + \"*\"*num)        # print middle row of *'s\n",
    "        tough(indent + 1, num//2)           # print previous pattern indented\n",
    "        \n",
    "#function call\n",
    "tough(0,2) \n",
    "print(\"\\n another function call with different values :\\n\")\n",
    "tough(0,4)"
   ]
  }
 ],
 "metadata": {
  "kernelspec": {
   "display_name": "Python 3 (ipykernel)",
   "language": "python",
   "name": "python3"
  },
  "language_info": {
   "codemirror_mode": {
    "name": "ipython",
    "version": 3
   },
   "file_extension": ".py",
   "mimetype": "text/x-python",
   "name": "python",
   "nbconvert_exporter": "python",
   "pygments_lexer": "ipython3",
   "version": "3.9.12"
  }
 },
 "nbformat": 4,
 "nbformat_minor": 5
}
